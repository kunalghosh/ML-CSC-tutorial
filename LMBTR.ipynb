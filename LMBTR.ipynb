{
 "cells": [
  {
   "cell_type": "code",
   "execution_count": null,
   "metadata": {},
   "outputs": [],
   "source": [
    "# Install the code depenedencies\n",
    "!pip install -r https://raw.githubusercontent.com/kunalghosh/ML-CSC-tutorial/master/requirements.txt\n",
    "# Download the data\n",
    "!curl https://zenodo.org/record/5535556/files/data.tar.gz -o data.tar.gz\n",
    "# Extract the data\n",
    "!tar -xvzf data.tar.gz\n",
    "# Setup the code \n",
    "!git clone https://github.com/kunalghosh/ML-CSC-tutorial\n",
    "!mv /content/ML-CSC-tutorial/* ."
   ]
  },
  {
   "cell_type": "markdown",
   "metadata": {},
   "source": [
    "# Local Many Body Tensor Representation\n",
    "\n",
    "LMBTR is a **local** descriptor for an atom in a molecule/unit cell. It eliminates rotational and translational variances for the central atom by gathering information about different configurations of $K$ atoms into tensors that are stratified by the involved chemical elements. All element combinations have an associated gaussian-smeared exponentially-weighted histogram. It is essentially the same as the regular MBTR, but calculated for only atom combinations including the central atom.\n",
    "\n",
    "## The Tensor\n",
    "The tensor comprises combinations of elements in different numbers. So, K1 is the atom, K2 is the atom with all elements, and so on. These K's represent different expression of the molecule/unit-cell.\n",
    "\n",
    "### K1\n",
    "As LMBTR encodes information about a local region, smoothly encoding the presence of different atomic species in that environment is problematic (and is already included in the other terms). For this reason the K1 term in LMBTR is not used.\n",
    "\n",
    "### K2\n",
    "K2 represents the gaussian-smeared exponentially-weighted histogram **inverse distances** of pairs of elements with the atom. So, this becomes a matrix of size MxN, where M is the number of elements, and N is the number of bins.\n",
    "\n",
    "### K3\n",
    "K3 represents the gaussian-smeared exponentially-weighted histogram **angles between triplets** of 2 elements, and the atom. So, this becomes a tensor of size MxMxN, where M is the number of elements, and N is the number of bins.\n",
    "\n",
    "## Weighting\n",
    "\n",
    "The distributions for K2 and K3 are weighted. This ensures that contributions from nearby elements is  higher, than from farther ones.\n",
    "\n",
    "For more info about MBTR see:\n",
    "[Huo, Haoyan, and Matthias Rupp. *arXiv preprint* **arXiv:1704.06439 (2017)**](https://arxiv.org/pdf/1704.06439.pdf)  \n",
    "\n",
    "For calculating LMBTR, we use the [DScribe package](https://singroup.github.io/dscribe) as developed by [Surfaces and Interfaces at the Nanoscale, Aalto](http://physics.aalto.fi/en/groups/sin/)"
   ]
  },
  {
   "cell_type": "markdown",
   "metadata": {},
   "source": [
    "## Example\n",
    "\n",
    "We are going to see MBTR in action for a simple molecule system."
   ]
  },
  {
   "cell_type": "code",
   "execution_count": null,
   "metadata": {},
   "outputs": [],
   "source": [
    "# --- INITIAL DEFINITIONS ---\n",
    "from dscribe.descriptors import LMBTR\n",
    "import numpy as np\n",
    "from visualise import view\n",
    "from ase import Atoms\n",
    "import ase.data\n",
    "import matplotlib.pyplot as mpl"
   ]
  },
  {
   "cell_type": "markdown",
   "metadata": {},
   "source": [
    "### Atom description\n",
    "\n",
    "We'll make a ase.Atoms class for our molecule"
   ]
  },
  {
   "cell_type": "code",
   "execution_count": null,
   "metadata": {},
   "outputs": [],
   "source": [
    "# atomic positions as matrix\n",
    "molxyz = np.load(\"./data/molecule.coords.npy\")\n",
    "# atom types\n",
    "moltyp = np.load(\"./data/molecule.types.npy\")\n",
    "\n",
    "atoms_sys = Atoms(positions=molxyz, numbers=moltyp)\n",
    "view(atoms_sys)"
   ]
  },
  {
   "cell_type": "markdown",
   "metadata": {},
   "source": [
    "### Setting LMBTR hyper-parameters\n",
    "\n",
    "Next we set-up hyper-parameters:\n",
    "1. species, the chemical elements to include in the MBTR, helps comparing two structures with missing elements\n",
    "2. k, list/set of K's to be computed\n",
    "3. grid: dictionary for K1, K2, K3 with\n",
    "    min, max: are the min and max values for each distribution\n",
    "    sigma, the exponent coefficient for smearing\n",
    "    n, number of bins.\n",
    "4. weights: dictionary of weighting functions to be used.\n",
    "\n",
    "**Note: The dscribe package has implementation of LMBTR up to K3**\n"
   ]
  },
  {
   "cell_type": "code",
   "execution_count": null,
   "metadata": {},
   "outputs": [],
   "source": [
    "# Create the MBTR desciptor for the system\n",
    "mbtr = LMBTR(\n",
    "    species=['H', 'C', 'N', 'O', 'F'],\n",
    "    periodic=False,\n",
    "    k2={\n",
    "        \"geometry\": {\"function\": \"distance\"},\n",
    "        \"grid\": { \"min\": 0.0, \"max\": 2.0, \"sigma\": 0.1, \"n\": 100 },\n",
    "        \"weighting\": {\"function\": \"unity\"}\n",
    "    },\n",
    "    k3={\n",
    "        \"geometry\": {\"function\": \"cosine\"},\n",
    "        \"grid\": { \"min\": -1.0, \"max\": 1.0, \"sigma\": 0.05, \"n\": 100 },\n",
    "        \"weighting\": {\"function\": \"unity\"}\n",
    "    },\n",
    "    flatten=True,\n",
    "    sparse=False\n",
    ")\n",
    "print(\"Number of features: {}\".format(mbtr.get_number_of_features()))"
   ]
  },
  {
   "cell_type": "markdown",
   "metadata": {},
   "source": [
    "### Calculate LMBTR\n",
    "\n",
    "We call the create function of the LMBTR class over our Atoms object. The calculation will be done only for one atom:"
   ]
  },
  {
   "cell_type": "code",
   "execution_count": null,
   "metadata": {},
   "outputs": [],
   "source": [
    "#Create Descriptor\n",
    "desc = mbtr.create(atoms_sys, positions=[0])\n",
    "print(\"shape of descriptor: \", desc.shape)"
   ]
  },
  {
   "cell_type": "markdown",
   "metadata": {},
   "source": [
    "### Plotting \n",
    "\n",
    "We will now plot all the tensors, in the same plot for K2, and K3."
   ]
  },
  {
   "cell_type": "code",
   "execution_count": null,
   "metadata": {},
   "outputs": [],
   "source": [
    "# Plot K2\n",
    "x2 = mbtr.get_k2_axis() # this is the x axis of the histogram\n",
    "\n",
    "# create some dictionaries to make atom Z <-- type index --> type name\n",
    "imap = mbtr.index_to_atomic_number\n",
    "smap = {}\n",
    "for index, number in imap.items():\n",
    "    smap[index] = ase.data.chemical_symbols[number]\n",
    "\n",
    "# make the plots\n",
    "for i in range(1, mbtr.n_elements): # avoid showing type 0 = X (the central atom)\n",
    "    \n",
    "    # this is the slice of the flattened MBTR tensor that contains the histogram\n",
    "    # for X-type_i - X is the central atom of the LMBTR expansion\n",
    "    slc = mbtr.get_location(('X',smap[i]))\n",
    "    \n",
    "    # this is the slice\n",
    "    y2 = desc[0][slc]\n",
    "    \n",
    "    mpl.plot(x2, y2, label=\"{}\".format(smap[i]))\n",
    "\n",
    "mpl.ylabel(\"$\\phi$ (arbitrary units)\", size=14)\n",
    "mpl.xlabel(\"Distance (angstrom)\", size=14)\n",
    "mpl.title(\"Distance distribution\", size=20)\n",
    "mpl.legend()\n",
    "mpl.show()"
   ]
  },
  {
   "cell_type": "code",
   "execution_count": null,
   "metadata": {},
   "outputs": [],
   "source": [
    "# Plot K3\n",
    "x3 = mbtr.get_k3_axis()\n",
    "\n",
    "for i in range(1, mbtr.n_elements):\n",
    "    for j in range(1, mbtr.n_elements):\n",
    "        if j <= i:\n",
    "            slc = mbtr.get_location(('X',smap[i],smap[j]))\n",
    "            mpl.plot(x3, desc[0][slc], label=\"{}, {}\".format(smap[i], smap[j]))\n",
    "\n",
    "mpl.xlim(left=-2)\n",
    "mpl.ylabel(\"$\\phi$ (arbitrary units)\", size=14)\n",
    "mpl.xlabel(\"cos(angle)\", size=14)\n",
    "mpl.title(\"Angle distribution\", size=20)\n",
    "mpl.legend(loc=3)\n",
    "mpl.show()"
   ]
  },
  {
   "cell_type": "markdown",
   "metadata": {},
   "source": [
    "## Remark\n",
    "\n",
    "The LMBTR is a fingerprint of one atom. Thus, it can be used to:\n",
    "1. Compare the similarity of two local chemical environments by comparing the LMBTR values.\n",
    "2. Machine learn local properties, like charges, adsorption energies, etc.\n"
   ]
  },
  {
   "cell_type": "markdown",
   "metadata": {},
   "source": [
    "## Exercise\n",
    "\n",
    "Calculate the local MBTR for all other atoms."
   ]
  },
  {
   "cell_type": "code",
   "execution_count": null,
   "metadata": {},
   "outputs": [],
   "source": [
    "\n"
   ]
  }
 ],
 "metadata": {
  "kernelspec": {
   "display_name": "Python 3",
   "language": "python",
   "name": "python3"
  },
  "language_info": {
   "codemirror_mode": {
    "name": "ipython",
    "version": 3
   },
   "file_extension": ".py",
   "mimetype": "text/x-python",
   "name": "python",
   "nbconvert_exporter": "python",
   "pygments_lexer": "ipython3",
   "version": "3.7.4"
  }
 },
 "nbformat": 4,
 "nbformat_minor": 2
}
