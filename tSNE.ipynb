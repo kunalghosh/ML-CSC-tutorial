{
 "cells": [
  {
   "cell_type": "code",
   "execution_count": null,
   "metadata": {},
   "outputs": [],
   "source": [
    "# Install the code depenedencies\n",
    "!pip install -r https://raw.githubusercontent.com/kunalghosh/ML-CSC-tutorial/master/requirements.txt\n",
    "# Download the data\n",
    "!curl https://zenodo.org/record/5535556/files/data.tar.gz -o data.tar.gz\n",
    "# Extract the data\n",
    "!tar -xvzf data.tar.gz\n",
    "# Setup the code \n",
    "!git clone https://github.com/kunalghosh/ML-CSC-tutorial\n",
    "!mv /content/ML-CSC-tutorial/* ."
   ]
  },
  {
   "cell_type": "markdown",
   "metadata": {},
   "source": [
    "# t-distributed Stochastic Neighbour Embedding\n",
    "\n",
    "t-SNE is a nonlinear dimensionality reduction technique for high-dimensional data.\n",
    "\n",
    "More info in the usual place: https://en.wikipedia.org/wiki/T-distributed_stochastic_neighbor_embedding\n"
   ]
  },
  {
   "cell_type": "code",
   "execution_count": null,
   "metadata": {},
   "outputs": [],
   "source": [
    "from sklearn.manifold import TSNE\n",
    "import matplotlib.pyplot as plt\n",
    "import numpy\n",
    "import pickle\n",
    "from dscribe.descriptors import MBTR\n",
    "from visualise import view"
   ]
  },
  {
   "cell_type": "markdown",
   "metadata": {},
   "source": [
    "We are going to apply this technique to a database of wine samples. The inputs are 13 chemical descriptors, the output is the index of its class (cheap, ok, good). In principle we do not know the output."
   ]
  },
  {
   "cell_type": "code",
   "execution_count": null,
   "metadata": {},
   "outputs": [],
   "source": [
    "dataIn = numpy.genfromtxt('./data/wineInputs.txt', delimiter=',')\n",
    "dataOut = numpy.genfromtxt('./data/wineOutputs.txt', delimiter=',')\n",
    "\n",
    "# find indexes of wines for each class\n",
    "idx1 = numpy.where(dataOut==1)\n",
    "idx2 = numpy.where(dataOut==2)\n",
    "idx3 = numpy.where(dataOut==3)"
   ]
  },
  {
   "cell_type": "code",
   "execution_count": null,
   "metadata": {},
   "outputs": [],
   "source": [
    "# compute the tSNE transformation of the inputs in 2 dimensions\n",
    "comp = TSNE(n_components=2).fit_transform(dataIn)\n",
    "\n",
    "# plot the resulting 2D points\n",
    "plt.plot(comp[:,0],comp[:,1],'ro')\n",
    "plt.xlabel('X1')\n",
    "plt.ylabel('X2')\n",
    "plt.show()"
   ]
  },
  {
   "cell_type": "markdown",
   "metadata": {},
   "source": [
    "The transform had no idea about the output classes, and still three clusters of points can be seen. We can overlay the knowledge of correct classifaction to check if the clusters correspond to what we know:"
   ]
  },
  {
   "cell_type": "code",
   "execution_count": null,
   "metadata": {},
   "outputs": [],
   "source": [
    "plt.plot(comp[idx1,0],comp[idx1,1],'go')\n",
    "plt.plot(comp[idx2,0],comp[idx2,1],'ro')\n",
    "plt.plot(comp[idx3,0],comp[idx3,1],'bo')\n",
    "plt.xlabel('X1')\n",
    "plt.ylabel('X2')\n",
    "plt.show()"
   ]
  },
  {
   "cell_type": "markdown",
   "metadata": {},
   "source": [
    "## Exercises"
   ]
  },
  {
   "cell_type": "markdown",
   "metadata": {},
   "source": [
    "### 1. Iron clusters\n",
    "\n",
    "We have a bunch of Fe clusters and it is not easy to determine their crystal structure with conventional tools. Let's try using the MBTR descriptor and t-SNE on these clusters and check if we can distinguish between FCC and BCC phases."
   ]
  },
  {
   "cell_type": "code",
   "execution_count": null,
   "metadata": {},
   "outputs": [],
   "source": [
    "import ase.io\n",
    "\n",
    "# load the database\n",
    "samples = ase.io.read(\"data/clusters.extxyz\", index=':')\n",
    "\n",
    "# samples is now a list of ASE Atoms objects, ready to use!\n",
    "# the first 55 clusters are FCC, the last 55 are BCC\n",
    "\n",
    "# define MBTR setup\n",
    "mbtr = MBTR(\n",
    "    species=[\"Fe\"],\n",
    "    periodic=False,\n",
    "    k2={\n",
    "        \"geometry\": {\"function\": \"distance\"},\n",
    "        \"grid\": { \"min\": 0, \"max\": 2, \"sigma\": 0.01, \"n\": 200 },\n",
    "        \"weighting\": {\"function\": \"exp\", \"scale\": 0.4, \"cutoff\": 1e-2}\n",
    "    },\n",
    "    k3={\n",
    "        \"geometry\": {\"function\": \"cosine\"},\n",
    "        \"grid\": { \"min\": -1.0, \"max\": 1.0, \"sigma\": 0.02, \"n\": 200 },\n",
    "        \"weighting\": {\"function\": \"exp\", \"scale\": 0.4, \"cutoff\": 1e-2}\n",
    "    },\n",
    "    flatten=True,\n",
    "    sparse=False,\n",
    ")\n",
    "\n",
    "# calculate MBTR descriptor for each sample - takes a few secs\n",
    "mbtrs = mbtr.create(samples)\n",
    "print(mbtrs.shape)"
   ]
  },
  {
   "cell_type": "markdown",
   "metadata": {},
   "source": [
    "Plot the t-SNE projection of MBTR output and see if you can see the two classes of structures accurately"
   ]
  },
  {
   "cell_type": "code",
   "execution_count": null,
   "metadata": {},
   "outputs": [],
   "source": [
    "# ..."
   ]
  },
  {
   "cell_type": "markdown",
   "metadata": {},
   "source": [
    "Plot the original MBTR descriptors and see if the structural differences are visible there"
   ]
  },
  {
   "cell_type": "code",
   "execution_count": null,
   "metadata": {},
   "outputs": [],
   "source": [
    "# ..."
   ]
  },
  {
   "cell_type": "markdown",
   "metadata": {},
   "source": [
    "Try changing the MBTR and t-SNE parameters and see how the projection changes"
   ]
  },
  {
   "cell_type": "code",
   "execution_count": null,
   "metadata": {},
   "outputs": [],
   "source": [
    "# ..."
   ]
  }
 ],
 "metadata": {
  "kernelspec": {
   "display_name": "Python 3",
   "language": "python",
   "name": "python3"
  },
  "language_info": {
   "codemirror_mode": {
    "name": "ipython",
    "version": 3
   },
   "file_extension": ".py",
   "mimetype": "text/x-python",
   "name": "python",
   "nbconvert_exporter": "python",
   "pygments_lexer": "ipython3",
   "version": "3.7.4"
  }
 },
 "nbformat": 4,
 "nbformat_minor": 2
}
