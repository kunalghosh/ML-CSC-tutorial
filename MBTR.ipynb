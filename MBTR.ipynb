{
 "cells": [
  {
   "cell_type": "code",
   "execution_count": null,
   "metadata": {},
   "outputs": [],
   "source": [
    "# Install the code depenedencies\n",
    "!pip install -r https://raw.githubusercontent.com/kunalghosh/ML-CSC-tutorial/master/requirements.txt\n",
    "# Download the data\n",
    "!curl https://zenodo.org/record/5535556/files/data.tar.gz -o data.tar.gz\n",
    "# Extract the data\n",
    "!tar -xvzf data.tar.gz\n",
    "# Setup the code \n",
    "!git clone https://github.com/kunalghosh/ML-CSC-tutorial\n",
    "!mv /content/ML-CSC-tutorial/* ."
   ]
  },
  {
   "cell_type": "markdown",
   "metadata": {},
   "source": [
    "# Many Body Tensor Representation\n",
    "\n",
    "MBTR is a global descriptor for a molecule/unit cell. It eliminates rotational, translational, and permutation variances by gathering information about different configurations of $K$ atoms into tensors that are stratified by the involved chemical elements. All element combinations have an associated gaussian-smeared exponentially-weighted histogram.\n",
    "\n",
    "## The Tensor\n",
    "The tensor comprises of combinations of elements in different numbers. So, K1 is 1 element, K2 is 2 elements, and so on. These K's represent different expression of the molecule/unit-cell.\n",
    "\n",
    "### K1\n",
    "K1 represents the gaussian-smeared histogram for **counts** of each element type. So, in essense it is a matrix of size MxN, where M is the number of elements, and N is the number of bins.\n",
    "\n",
    "![K1](./images/k1.png)\n",
    "\n",
    "### K2\n",
    "K2 represents the gaussian-smeared exponentially-weighted histogram **inverse distances** of pairs of elements. So, this becomes a tensor of size MxMxN, where M is the number of elements, and N is the number of bins.\n",
    "\n",
    "![K2](./images/k2.png)\n",
    "\n",
    "### K3\n",
    "K3 represents the gaussian-smeared exponentially-weighted histogram **angles between triplets** of elements. So, this becomes a tensor of size MxMxMxN, where M is the number of elements, and N is the number of bins.\n",
    "\n",
    "![K3](./images/k3.png)\n",
    "\n",
    "*Note: the dscribe package has implementation of MBTR up to K3*\n",
    "\n",
    "### K4 \n",
    "K4 represents the gaussian-smeared exponantially-weighted histogram **di-hedral angles** between quadruplets of elements. So, this becomes a tensor of size MxMxMxMxN, where M is the number of elements, and N is the number of bins.\n",
    "\n",
    "![K4](./images/k4.png)\n",
    "\n",
    "## Weighting\n",
    "\n",
    "All the tensors, but K1, are weighted. This ensures that contributions from nearby atoms is higher, than from farther ones.\n",
    "\n",
    "For more info about MBTR see:\n",
    "[Huo, Haoyan, and Matthias Rupp. *arXiv preprint* **arXiv:1704.06439 (2017)**](https://arxiv.org/pdf/1704.06439.pdf)  \n",
    "\n",
    "For calculating MBTR, we use the [DScribe package](https://singroup.github.io/dscribe) as developed by [Surfaces and Interfaces at the Nanoscale, Aalto](http://physics.aalto.fi/en/groups/sin/)"
   ]
  },
  {
   "cell_type": "markdown",
   "metadata": {},
   "source": [
    "## Example\n",
    "\n",
    "We are going to see MBTR in action for a simple NaCl system."
   ]
  },
  {
   "cell_type": "code",
   "execution_count": null,
   "metadata": {},
   "outputs": [],
   "source": [
    "# --- INITIAL DEFINITIONS ---\n",
    "from dscribe.descriptors import MBTR\n",
    "import numpy as np\n",
    "from visualise import view\n",
    "from ase import Atoms\n",
    "import matplotlib.pyplot as mpl"
   ]
  },
  {
   "cell_type": "markdown",
   "metadata": {},
   "source": [
    "### Atom description\n",
    "\n",
    "We'll make an ase.Atoms class for NaCl"
   ]
  },
  {
   "cell_type": "code",
   "execution_count": null,
   "metadata": {},
   "outputs": [],
   "source": [
    "# Define the system under study: NaCl in a conventional cell.\n",
    "NaCl_conv = Atoms(\n",
    "    cell=[\n",
    "        [5.6402, 0.0, 0.0],\n",
    "        [0.0, 5.6402, 0.0],\n",
    "        [0.0, 0.0, 5.6402]\n",
    "    ],\n",
    "    scaled_positions=[\n",
    "        [0.0, 0.5, 0.0],\n",
    "        [0.0, 0.5, 0.5],\n",
    "        [0.0, 0.0, 0.5],\n",
    "        [0.0, 0.0, 0.0],\n",
    "        [0.5, 0.5, 0.5],\n",
    "        [0.5, 0.5, 0.0],\n",
    "        [0.5, 0.0, 0.0],\n",
    "        [0.5, 0.0, 0.5]\n",
    "    ],\n",
    "    symbols=[\"Na\", \"Cl\", \"Na\", \"Cl\", \"Na\", \"Cl\", \"Na\", \"Cl\"],\n",
    ")\n",
    "view(NaCl_conv)"
   ]
  },
  {
   "cell_type": "markdown",
   "metadata": {},
   "source": [
    "### Setting MBTR hyper-parameters\n",
    "\n",
    "Next we set-up hyper-parameters:\n",
    "1. species, the chemical elements to include in the MBTR, helps comparing two structures with missing elements\n",
    "2. k, list/set of K's to be computed\n",
    "3. grid: dictionary for K1, K2, K3 with\n",
    "    min, max: are the min and max values for each distribution\n",
    "    sigma, the exponent coefficient for smearing\n",
    "    n, number of bins.\n",
    "4. weights: dictionary of weighting functions to be used.\n",
    "\n",
    "**Note: The dscribe package has implementation of MBTR up to K3**\n"
   ]
  },
  {
   "cell_type": "code",
   "execution_count": null,
   "metadata": {},
   "outputs": [],
   "source": [
    "# Create the MBTR desciptor for the system\n",
    "mbtr = MBTR(\n",
    "    species=['Na', 'Cl'], # Na and Cl\n",
    "    periodic=True,\n",
    "    k1={\n",
    "        \"geometry\": { \"function\": \"atomic_number\" },\n",
    "        \"grid\": { \"min\": 10, \"max\": 18, \"sigma\": 0.1, \"n\": 200 },\n",
    "    },\n",
    "    k2={\n",
    "        \"geometry\": {\"function\": \"inverse_distance\"},\n",
    "        \"grid\": { \"min\": 0, \"max\": 0.7, \"sigma\": 0.01, \"n\": 200 },\n",
    "        \"weighting\": {\"function\": \"exp\", \"scale\": 0.75, \"cutoff\": 1e-3}\n",
    "    },\n",
    "    k3={\n",
    "        \"geometry\": {\"function\": \"cosine\"},\n",
    "        \"grid\": { \"min\": -1.0, \"max\": 1.0, \"sigma\": 0.05, \"n\": 200 },\n",
    "        \"weighting\": {\"function\": \"exp\", \"scale\": 0.5, \"cutoff\": 1e-3}\n",
    "    },\n",
    "    \n",
    "    flatten=False,\n",
    "    sparse=False)\n",
    "print(\"Number of features: {}\".format(mbtr.get_number_of_features()))"
   ]
  },
  {
   "cell_type": "markdown",
   "metadata": {},
   "source": [
    "### Calculate MBTR\n",
    "\n",
    "We call the create functin of mbtr class over our System(ase.Atoms) object"
   ]
  },
  {
   "cell_type": "code",
   "execution_count": null,
   "metadata": {},
   "outputs": [],
   "source": [
    "#Create Descriptor\n",
    "desc = mbtr.create(NaCl_conv)"
   ]
  },
  {
   "cell_type": "markdown",
   "metadata": {},
   "source": [
    "### Plotting \n",
    "\n",
    "We will now plot all the tensors, in the same plot, for K1, K2, and K3"
   ]
  },
  {
   "cell_type": "code",
   "execution_count": null,
   "metadata": {},
   "outputs": [],
   "source": [
    "#plot K1\n",
    "x1 = mbtr.get_k1_axis()\n",
    "mpl.plot(x1, desc[\"k1\"][0, :], label=\"Na\", color=\"blue\")\n",
    "mpl.plot(x1, desc[\"k1\"][1, :], label=\"Cl\", color=\"orange\")\n",
    "mpl.ylabel(\"$\\phi$ (arbitrary units)\", size=14)\n",
    "mpl.xlabel(\"Atomic number\", size=14)\n",
    "mpl.title(\"The element count\", size=20)\n",
    "mpl.legend()\n",
    "mpl.show()"
   ]
  },
  {
   "cell_type": "code",
   "execution_count": null,
   "metadata": {},
   "outputs": [],
   "source": [
    "# Plot K2\n",
    "x2 = mbtr.get_k2_axis()\n",
    "mpl.plot(x2, desc[\"k2\"][0, 1, :], label=\"NaCl, ClNa\", color=\"blue\")\n",
    "mpl.plot(x2, desc[\"k2\"][1, 1, :], label=\"ClCl\", color=\"orange\")\n",
    "mpl.plot(x2, desc[\"k2\"][0, 0, :], label=\"NaNa\", color=\"green\")\n",
    "mpl.ylabel(\"$\\phi$ (arbitrary units)\", size=14)\n",
    "mpl.xlabel(\"Inverse distance (1/angstrom)\", size=14)\n",
    "mpl.title(\"Exponentially weighted inverse distance distribution\", size=20)\n",
    "mpl.legend()\n",
    "mpl.show()"
   ]
  },
  {
   "cell_type": "code",
   "execution_count": null,
   "metadata": {
    "scrolled": true
   },
   "outputs": [],
   "source": [
    "# Plot K3\n",
    "x3 = mbtr.get_k3_axis()\n",
    "mpl.plot(x3, desc[\"k3\"][0, 0, 0, :], label=\"NaNaNa, ClClCl\", color=\"blue\")\n",
    "mpl.plot(x3, desc[\"k3\"][0, 0, 1, :], label=\"NaNaCl, NaClCl\", color=\"orange\")\n",
    "mpl.plot(x3, desc[\"k3\"][1, 0, 1, :], label=\"NaClNa, ClNaCl\", color=\"green\")\n",
    "mpl.ylabel(\"$\\phi$ (arbitrary units)\", size=14)\n",
    "mpl.xlabel(\"cos(angle)\", size=14)\n",
    "mpl.title(\"Exponentially weighted angle distribution\", size=20)\n",
    "mpl.legend()\n",
    "mpl.show()"
   ]
  },
  {
   "cell_type": "markdown",
   "metadata": {},
   "source": [
    "## Remark\n",
    "\n",
    "The MBTR is a fingerprint of the entire system. Thus, it can be used to:\n",
    "1. Compare the similarity of two chemical system by taking comparing the MBTR values.\n",
    "2. Machine learn total properties, like energies, dipole moment, etc.\n",
    "\n",
    "## Exercise\n",
    "\n",
    "Verify that the MBTR is translationally and rotationally invariant."
   ]
  },
  {
   "cell_type": "code",
   "execution_count": null,
   "metadata": {},
   "outputs": [],
   "source": [
    "\n"
   ]
  }
 ],
 "metadata": {
  "kernelspec": {
   "display_name": "Python 3",
   "language": "python",
   "name": "python3"
  },
  "language_info": {
   "codemirror_mode": {
    "name": "ipython",
    "version": 3
   },
   "file_extension": ".py",
   "mimetype": "text/x-python",
   "name": "python",
   "nbconvert_exporter": "python",
   "pygments_lexer": "ipython3",
   "version": "3.7.4"
  }
 },
 "nbformat": 4,
 "nbformat_minor": 2
}
