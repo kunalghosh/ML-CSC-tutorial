{
 "cells": [
  {
   "cell_type": "code",
   "execution_count": null,
   "metadata": {},
   "outputs": [],
   "source": [
    "# Install the code depenedencies\n",
    "!pip install -r https://raw.githubusercontent.com/kunalghosh/ML-CSC-tutorial/master/requirements.txt\n",
    "# Download the data\n",
    "!curl https://zenodo.org/record/5535556/files/data.tar.gz -o data.tar.gz\n",
    "# Extract the data\n",
    "!tar -xvzf data.tar.gz\n",
    "# Setup the code \n",
    "!git clone https://github.com/kunalghosh/ML-CSC-tutorial\n",
    "!mv /content/ML-CSC-tutorial/* ."
   ]
  },
  {
   "cell_type": "markdown",
   "metadata": {},
   "source": [
    "# Atom Centered Symmetry Functions\n",
    "\n",
    "ACSFs are a convenient way of transforming atomic coortinates and types into a computer-friendly string of numbers. Each atom gets its own set of ACSFs, computed using itself as the center, and all other atomic coordinates, which encode its chemical environment.<br>\n",
    "<img src=\"./images/acsf-schema.png\" width=\"400px\"><br>\n",
    "The ACSFs are invariant under translation and rotations of the whole system, and independent on the ordering of the atoms.\n",
    "\n",
    "The two main type of ACSFs are two- and three-body. Each set of ACSFs becomes the input of a neural network that calculates the corresponding energy contribution. The only important quantity is the total energy of the system, given by the sum of all contributions. All neural networks are fitted to minimise the error on total energy.\n",
    "\n",
    "Derivatives of the energy w.r.t. atomic positions (forces) can be obtained analytically with the chain rule, and this makes ACSF the method of choice for molecular dynamics simulations.\n",
    "\n",
    "For more info see: Jörg Behler, <i>J. Chem. Phys.</i> <b>134</b>, 074106 (2011)"
   ]
  },
  {
   "cell_type": "markdown",
   "metadata": {},
   "source": [
    "## How it works\n",
    "\n",
    "We are going to see ACSFs in action for a simple trimer system."
   ]
  },
  {
   "cell_type": "code",
   "execution_count": null,
   "metadata": {
    "scrolled": false
   },
   "outputs": [],
   "source": [
    "# --- INITIAL DEFINITIONS ---\n",
    "from sklearn.neural_network import MLPRegressor\n",
    "import numpy, math, random\n",
    "import matplotlib.pyplot as plt\n",
    "from mpl_toolkits.mplot3d import Axes3D\n",
    "from visualise import view\n",
    "from ase import Atoms"
   ]
  },
  {
   "cell_type": "code",
   "execution_count": null,
   "metadata": {
    "scrolled": false
   },
   "outputs": [],
   "source": [
    "# parameters for the trimer\n",
    "d1 = 1.0\n",
    "d2 = 1.0\n",
    "theta = 30\n",
    "# convert angle to radians\n",
    "theta *= math.pi/180\n",
    "\n",
    "# generate the atomic coordinates\n",
    "atoms = numpy.zeros((3,3))\n",
    "atoms[1] = [math.cos(theta),-math.sin(theta),0]\n",
    "atoms[2] = [-math.cos(theta),-math.sin(theta),0]\n",
    "atoms = numpy.array(atoms)\n",
    "atoms_sys = Atoms(positions=atoms, symbols=['H']*3)\n",
    "\n",
    "# show the atomic position vectors - on rows\n",
    "print(atoms)\n",
    "\n",
    "# show atomic positions - drag mouse to rotate view\n",
    "view(atoms_sys)"
   ]
  },
  {
   "cell_type": "markdown",
   "metadata": {},
   "source": [
    "### Computing the ACSFs - two-body terms\n",
    "\n",
    "The simplest ACSF quantifies the amount of atoms within cutoff:<br>\n",
    "$$G^0_i = \\sum_j f_c\\left(r_{ij}\\right)$$\n",
    "with\n",
    "$$f_c(r) = \\frac{1}{2} \\left[\\cos\\left(\\pi \\frac{r}{r_c}\\right) + 1 \\right]$$"
   ]
  },
  {
   "cell_type": "code",
   "execution_count": null,
   "metadata": {
    "scrolled": false
   },
   "outputs": [],
   "source": [
    "# cutoff distance for all ACSFs\n",
    "Rcut = 5.0\n",
    "\n",
    "def fcut(r):\n",
    "    return (math.cos(math.pi * r/Rcut)+1) * 0.5\n",
    "\n",
    "# compute the ACSF G0 (sum of cutoff)\n",
    "G0 = numpy.zeros(3)\n",
    "for i in range(3): # compute one ACSF for each atom i\n",
    "    for j in range(3): # loop over all OTHER atoms\n",
    "        if i == j: continue\n",
    "        r = numpy.linalg.norm(atoms[i]-atoms[j]) # compute distance i-j\n",
    "        if r > Rcut: continue # skip if too far\n",
    "        G0[i] += fcut(r)\n",
    "        \n",
    "print(G0)"
   ]
  },
  {
   "cell_type": "markdown",
   "metadata": {},
   "source": [
    "The result is one number for each atom in the system. Larger values indicate more atoms in the vicinity. The last two atoms are a bit far from each other, thus their G0 is smaller than the central atom."
   ]
  },
  {
   "cell_type": "markdown",
   "metadata": {},
   "source": [
    "The next type of ACSF gives more information about distances to neighbouring atoms:\n",
    "\n",
    "\n",
    "$$G^1_i = \\sum_j e^{-\\eta\\left(r_{ij} - R_s \\right)^2} f_c\\left(r_{ij}\\right)$$\n",
    "\n",
    "\n",
    "where $\\eta$ and $R_s$ are free parameters. The ACSF is a gaussian, and we can imagine that $G^1$ quantifies how many other atoms are found $R_s$ away from the central atom.<br>\n",
    "In practice, $G^1$ is computed for several combinations of $\\eta$ and $R_s$, thus each atom will have a series of $G^1$ values ($G^1$ is an array for each atom)"
   ]
  },
  {
   "cell_type": "code",
   "execution_count": null,
   "metadata": {
    "scrolled": false
   },
   "outputs": [],
   "source": [
    "# G1 function definition\n",
    "def G1f(x, eta, Rs):\n",
    "     return math.exp(-eta*(x-Rs)*(x-Rs)) * ((math.cos(math.pi * x/Rcut)+1) * 0.5)\n",
    "G1v = numpy.vectorize(G1f)\n",
    "\n",
    "# this is a list of eta/Rs pairs to use in our example\n",
    "p = [(0.4, 0.2),(0.4, 0.5),(0.4, 1.0),(0.5, 2.0),(0.5, 3.0),(0.5, 4.0)]\n",
    "\n",
    "# make a nice plot of the ACSFs we are using\n",
    "datar = numpy.arange(0, Rcut, Rcut/100)\n",
    "for pp in p:\n",
    "    plt.plot(datar, G1v(datar, pp[0], pp[1]) )\n",
    "plt.xlabel('Pair distance')\n",
    "plt.ylabel('G1')\n",
    "plt.show()\n",
    "\n",
    "# compute the ACSF G1\n",
    "G1 = numpy.zeros((3, len(p)))\n",
    "\n",
    "for i in range(3): # compute one ACSF for each atom i\n",
    "    for j in range(3): # loop over all OTHER atoms\n",
    "        if i == j: continue\n",
    "        r = numpy.linalg.norm(atoms[i]-atoms[j]) # compute distance i-j\n",
    "        if r > Rcut: continue # skip if too far\n",
    "        \n",
    "        for k in range(len(p)):\n",
    "            eta, rs = p[k]\n",
    "            G1[i,k] += G1f(r, eta, rs)\n",
    "print(G1)"
   ]
  },
  {
   "cell_type": "markdown",
   "metadata": {},
   "source": [
    "The result is a matrix: one row for each atom, one column for each pair or parameters $\\eta$ and $R_s$."
   ]
  },
  {
   "cell_type": "markdown",
   "metadata": {},
   "source": [
    "### Three-body ACSF\n",
    "\n",
    "A more complete description of the system can be achieved by adding ACSFs that depend on triplets of atoms, giving three-body terms to the energy expression. Usually they are functions of the cosine of the angle between three atoms, and the distances between them:\n",
    "\n",
    "\n",
    "$$G^4_i = 2^{1-\\zeta}\\sum_{j,k} \\left(1+\\lambda\\cos\\left( \\theta_{ijk} \\right)\\right)^\\zeta \\exp\\left[-\\eta\\left(r_{ij}^2 +r_{ik}^2+r_{jk}^2\\right)\\right] f_c\\left(r_{ij}\\right)f_c\\left(r_{ik}\\right)f_c\\left(r_{jk}\\right)$$\n",
    "\n",
    "\n",
    "where $\\eta$, $\\zeta$ and $\\lambda$  are free parameter. Usually $\\zeta$ is an integer and $\\lambda = \\pm 1$."
   ]
  },
  {
   "cell_type": "code",
   "execution_count": null,
   "metadata": {
    "scrolled": false
   },
   "outputs": [],
   "source": [
    "# G4 function definition\n",
    "def G4f(cost, rij, rik, rjk, eta, zeta, lamb):\n",
    "    result = math.pow(2,1-zeta) * math.pow(1+lamb*cost, zeta)\n",
    "    result *= math.exp(-eta*(rij*rij + rik*rik + rjk*rjk))\n",
    "    return result * fcut(rij) * fcut(rjk) * fcut(rik)\n",
    "\n",
    "\n",
    "# this is a list of eta/zeta/lambda pairs to use in our example\n",
    "p = [(0.4, 1, 1),(0.4, 2, 1),(0.4, 3, 1),(0.8, 1, 1),(0.8, 2, 1)]\n",
    "\n",
    "\n",
    "# compute the ACSF G4\n",
    "G4 = numpy.zeros((3, len(p)))\n",
    "\n",
    "for i in range(3): # compute one ACSF for each atom i\n",
    "    for j in range(3): # loop over all OTHER atoms\n",
    "        if i == j: continue\n",
    "        rij = numpy.linalg.norm(atoms[i]-atoms[j]) # compute distance i-j\n",
    "        if rij > Rcut: continue # skip if too far\n",
    "        for k in range(3):\n",
    "            if k == i or k == j: continue\n",
    "            rik = numpy.linalg.norm(atoms[i]-atoms[k]) # compute distance i-k\n",
    "            rjk = numpy.linalg.norm(atoms[j]-atoms[k]) # compute distance j-k\n",
    "            # compute cosine of angle\n",
    "            cost = numpy.dot(atoms[i]-atoms[k],atoms[i]-atoms[j])\n",
    "            cost /= rij * rik\n",
    "            \n",
    "            for k in range(len(p)):\n",
    "                eta, zeta, lamb = p[k]\n",
    "                G4[i,k] += G4f(cost,rij,rik,rjk, eta, zeta, lamb)\n",
    "print(G4)"
   ]
  },
  {
   "cell_type": "markdown",
   "metadata": {
    "collapsed": true
   },
   "source": [
    "### Remarks\n",
    "\n",
    "These are some of the functions suggested by the authors, but more can be crafted. Two-body ACSFs must only depend on the pair distance, while three-body ones must include angular dependence.\n",
    "\n",
    "In practice ACSFs are subdivided according to the atomic types. For example, if the system only has C and H, each atom $i$ of type C will have two sets of $G^1$:\n",
    "\n",
    "$$G^1_{i-C} = \\sum_{j\\in C} e^{-\\eta\\left(r_{ij} - R_s \\right)^2} f_c\\left(r_{ij}\\right)$$\n",
    "$$G^1_{i-H} = \\sum_{j\\in H} e^{-\\eta\\left(r_{ij} - R_s \\right)^2} f_c\\left(r_{ij}\\right)$$\n",
    "\n",
    "and similarly for three-body ACSFs. The chemical environments w.r.t. different atomic species are separate, and go to different neural networks. This way, more information is retained in the ACSF descriptors but more NN parameters will be necessary to accurately model the system, and more training data has to be supplied."
   ]
  },
  {
   "cell_type": "markdown",
   "metadata": {},
   "source": [
    "## Exercises"
   ]
  },
  {
   "cell_type": "markdown",
   "metadata": {},
   "source": [
    "### 1. Invariants\n",
    "Verify (numerically) that the ACSF are invariant under translations and rotations of the whole system."
   ]
  },
  {
   "cell_type": "code",
   "execution_count": null,
   "metadata": {
    "scrolled": false
   },
   "outputs": [],
   "source": []
  },
  {
   "cell_type": "markdown",
   "metadata": {},
   "source": [
    "### 2. Smoothness\n",
    "Verify (numerically) that ACSF change smoothly for small changes in the system"
   ]
  },
  {
   "cell_type": "code",
   "execution_count": null,
   "metadata": {
    "scrolled": false
   },
   "outputs": [],
   "source": []
  },
  {
   "cell_type": "markdown",
   "metadata": {},
   "source": [
    "### 3. A new ACSF\n",
    "Implement the $G^5$ three-body ACSF:\n",
    "\n",
    "$$G^5_i = 2^{1-\\zeta}\\sum_{j,k} \\left(1+\\lambda\\cos\\left( \\theta_{ijk} \\right)\\right)^\\zeta \\exp\\left[-\\eta\\left(r_{ij}^2 +r_{ik}^2\\right)\\right] f_c\\left(r_{ij}\\right)f_c\\left(r_{ik}\\right)$$"
   ]
  },
  {
   "cell_type": "code",
   "execution_count": null,
   "metadata": {
    "scrolled": false
   },
   "outputs": [],
   "source": []
  }
 ],
 "metadata": {
  "kernelspec": {
   "display_name": "Python 3",
   "language": "python",
   "name": "python3"
  },
  "language_info": {
   "codemirror_mode": {
    "name": "ipython",
    "version": 3
   },
   "file_extension": ".py",
   "mimetype": "text/x-python",
   "name": "python",
   "nbconvert_exporter": "python",
   "pygments_lexer": "ipython3",
   "version": "3.7.4"
  }
 },
 "nbformat": 4,
 "nbformat_minor": 2
}
